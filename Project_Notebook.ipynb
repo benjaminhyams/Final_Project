{
 "cells": [
  {
   "cell_type": "code",
   "execution_count": 10,
   "metadata": {},
   "outputs": [],
   "source": [
    "from Bio.Blast import NCBIWWW\n",
    "from Bio.Blast import NCBIXML\n",
    "from Bio import Entrez\n",
    "from Bio import SeqIO\n",
    "from Bio.SeqRecord import SeqRecord\n",
    "from Bio.Seq import Seq\n",
    "Entrez.email = 'xapomojeb1@appmaillist.com'"
   ]
  },
  {
   "cell_type": "markdown",
   "metadata": {},
   "source": [
    "### Uploading Data\n",
    "wget [url] "
   ]
  },
  {
   "cell_type": "markdown",
   "metadata": {},
   "source": [
    "### Updating Sequnce Names"
   ]
  },
  {
   "cell_type": "code",
   "execution_count": 20,
   "metadata": {},
   "outputs": [
    {
     "name": "stdout",
     "output_type": "stream",
     "text": [
      "scaffold_m13_p_1\n",
      "scaffold_m13_p_1_HLrouAeg4\n",
      "scaffold_m13_p_2\n",
      "scaffold_m13_p_2_HLrouAeg4\n",
      "scaffold_m13_p_3\n",
      "scaffold_m13_p_3_HLrouAeg4\n",
      "scaffold_m13_p_4\n",
      "scaffold_m13_p_4_HLrouAeg4\n",
      "scaffold_m13_p_5\n",
      "scaffold_m13_p_5_HLrouAeg4\n",
      "scaffold_m13_p_6\n",
      "scaffold_m13_p_6_HLrouAeg4\n",
      "scaffold_m13_p_7\n",
      "scaffold_m13_p_7_HLrouAeg4\n",
      "scaffold_m13_p_8\n",
      "scaffold_m13_p_8_HLrouAeg4\n",
      "scaffold_m13_p_9\n",
      "scaffold_m13_p_9_HLrouAeg4\n",
      "scaffold_m13_p_10\n",
      "scaffold_m13_p_10_HLrouAeg4\n",
      "scaffold_m13_p_11\n",
      "scaffold_m13_p_11_HLrouAeg4\n",
      "scaffold_m13_p_12\n",
      "scaffold_m13_p_12_HLrouAeg4\n",
      "scaffold_m13_p_13\n",
      "scaffold_m13_p_13_HLrouAeg4\n",
      "scaffold_m13_p_14\n",
      "scaffold_m13_p_14_HLrouAeg4\n",
      "scaffold_m13_p_15\n",
      "scaffold_m13_p_15_HLrouAeg4\n",
      "scaffold_m13_p_16\n",
      "scaffold_m13_p_16_HLrouAeg4\n",
      "scaffold_m13_p_17\n",
      "scaffold_m13_p_17_HLrouAeg4\n",
      "scaffold_m13_p_18\n",
      "scaffold_m13_p_18_HLrouAeg4\n",
      "scaffold_m13_p_19\n",
      "scaffold_m13_p_19_HLrouAeg4\n",
      "scaffold_m13_p_20\n",
      "scaffold_m13_p_20_HLrouAeg4\n",
      "scaffold_m13_p_21\n",
      "scaffold_m13_p_21_HLrouAeg4\n",
      "scaffold_m13_p_22\n",
      "scaffold_m13_p_22_HLrouAeg4\n",
      "scaffold_m13_p_23\n",
      "scaffold_m13_p_23_HLrouAeg4\n",
      "scaffold_m13_p_24\n",
      "scaffold_m13_p_24_HLrouAeg4\n",
      "scaffold_m13_p_25\n",
      "scaffold_m13_p_25_HLrouAeg4\n",
      "scaffold_m13_p_26\n",
      "scaffold_m13_p_26_HLrouAeg4\n",
      "scaffold_m13_p_27\n",
      "scaffold_m13_p_27_HLrouAeg4\n",
      "scaffold_m13_p_28\n",
      "scaffold_m13_p_28_HLrouAeg4\n",
      "scaffold_m13_p_29\n",
      "scaffold_m13_p_29_HLrouAeg4\n"
     ]
    }
   ],
   "source": [
    "original_file = \"Data/HLrouAeg4.fa\"\n",
    "corrected_file = \"Data/HLrouAeg4_corrected.fa\"\n",
    "tag = 'HLrouAeg4'\n",
    "\n",
    "with open(original_file) as original, open(corrected_file, 'w') as corrected:\n",
    "    for record in SeqIO.parse(original, 'fasta'):\n",
    "        print(record.id)     \n",
    "        record.id = record.id + '_' + tag\n",
    "        record.description = record.id + '_' + tag\n",
    "        print(record.id)\n",
    "        SeqIO.write(record, corrected, 'fasta')"
   ]
  },
  {
   "cell_type": "markdown",
   "metadata": {},
   "source": [
    "### Configuring Blast+\n",
    "export PATH=$PATH:/home/jovyan/BioE/Final_Project/ncbi-blast-2.11.0+/bin\n",
    "    \n",
    "### Making the database\n",
    "cat HLrouAeg4_corrected.fa, HLmolMol2_corrected.fa, ... , HLphyDis3_corrected.fa > bat_db.fa   \n",
    "\n",
    "makedb -in bad_db.fa -dbtype nucl -out bat_db\n",
    "\n",
    "### Example Query\n",
    "tblastn -query ebola_probe.fa -db blastdb/bat_db -out ebola_out.txt -evalue 0.0001"
   ]
  },
  {
   "cell_type": "code",
   "execution_count": null,
   "metadata": {},
   "outputs": [],
   "source": []
  }
 ],
 "metadata": {
  "kernelspec": {
   "display_name": "Python 3",
   "language": "python",
   "name": "python3"
  },
  "language_info": {
   "codemirror_mode": {
    "name": "ipython",
    "version": 3
   },
   "file_extension": ".py",
   "mimetype": "text/x-python",
   "name": "python",
   "nbconvert_exporter": "python",
   "pygments_lexer": "ipython3",
   "version": "3.8.6"
  }
 },
 "nbformat": 4,
 "nbformat_minor": 4
}
